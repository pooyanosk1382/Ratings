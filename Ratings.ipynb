{
 "cells": [
  {
   "cell_type": "code",
   "execution_count": null,
   "outputs": [],
   "source": [
    "# This dataset is analysed by pooyan :)"
   ],
   "metadata": {
    "collapsed": false,
    "pycharm": {
     "name": "#%%\n"
    }
   }
  },
  {
   "cell_type": "code",
   "execution_count": 1,
   "outputs": [],
   "source": [
    "import pandas as pd\n",
    "import numpy as np\n",
    "import matplotlib.pyplot as plt\n",
    "import seaborn as sns\n",
    "import sklearn"
   ],
   "metadata": {
    "collapsed": false,
    "pycharm": {
     "name": "#%%\n"
    }
   }
  },
  {
   "cell_type": "code",
   "execution_count": 2,
   "outputs": [],
   "source": [
    "df = pd.read_csv('Ratings.csv')"
   ],
   "metadata": {
    "collapsed": false,
    "pycharm": {
     "name": "#%%\n"
    }
   }
  },
  {
   "cell_type": "code",
   "execution_count": 3,
   "outputs": [
    {
     "data": {
      "text/plain": "                   Team      Tournament  Goals  Shots pg  yellow_cards  \\\n0       Manchester City  Premier League     83      15.8            46   \n1         Bayern Munich      Bundesliga     99      17.1            44   \n2   Paris Saint-Germain         Ligue 1     86      15.0            73   \n3             Barcelona          LaLiga     85      15.3            68   \n4           Real Madrid          LaLiga     67      14.4            57   \n..                  ...             ...    ...       ...           ...   \n93     Sheffield United  Premier League     20       8.5            73   \n94              Crotone         Serie A     45       9.5            85   \n95            Benevento         Serie A     40      11.0            90   \n96                Dijon         Ligue 1     25       9.2            75   \n97           Schalke 04      Bundesliga     25       8.9            70   \n\n    red_cards  Possession%  Pass%  AerialsWon  Rating  \n0           2         60.8   89.4        12.8    7.01  \n1           3         58.1   85.5        12.9    6.95  \n2           7         60.1   89.5         9.5    6.88  \n3           2         62.4   89.7        10.6    6.87  \n4           2         57.7   87.7        11.8    6.86  \n..        ...          ...    ...         ...     ...  \n93          3         43.0   76.9        19.1    6.46  \n94          4         47.2   80.4        12.7    6.43  \n95          5         44.2   77.7        13.4    6.43  \n96          5         46.9   80.0        14.3    6.42  \n97          2         46.2   76.5        15.6    6.41  \n\n[98 rows x 10 columns]",
      "text/html": "<div>\n<style scoped>\n    .dataframe tbody tr th:only-of-type {\n        vertical-align: middle;\n    }\n\n    .dataframe tbody tr th {\n        vertical-align: top;\n    }\n\n    .dataframe thead th {\n        text-align: right;\n    }\n</style>\n<table border=\"1\" class=\"dataframe\">\n  <thead>\n    <tr style=\"text-align: right;\">\n      <th></th>\n      <th>Team</th>\n      <th>Tournament</th>\n      <th>Goals</th>\n      <th>Shots pg</th>\n      <th>yellow_cards</th>\n      <th>red_cards</th>\n      <th>Possession%</th>\n      <th>Pass%</th>\n      <th>AerialsWon</th>\n      <th>Rating</th>\n    </tr>\n  </thead>\n  <tbody>\n    <tr>\n      <th>0</th>\n      <td>Manchester City</td>\n      <td>Premier League</td>\n      <td>83</td>\n      <td>15.8</td>\n      <td>46</td>\n      <td>2</td>\n      <td>60.8</td>\n      <td>89.4</td>\n      <td>12.8</td>\n      <td>7.01</td>\n    </tr>\n    <tr>\n      <th>1</th>\n      <td>Bayern Munich</td>\n      <td>Bundesliga</td>\n      <td>99</td>\n      <td>17.1</td>\n      <td>44</td>\n      <td>3</td>\n      <td>58.1</td>\n      <td>85.5</td>\n      <td>12.9</td>\n      <td>6.95</td>\n    </tr>\n    <tr>\n      <th>2</th>\n      <td>Paris Saint-Germain</td>\n      <td>Ligue 1</td>\n      <td>86</td>\n      <td>15.0</td>\n      <td>73</td>\n      <td>7</td>\n      <td>60.1</td>\n      <td>89.5</td>\n      <td>9.5</td>\n      <td>6.88</td>\n    </tr>\n    <tr>\n      <th>3</th>\n      <td>Barcelona</td>\n      <td>LaLiga</td>\n      <td>85</td>\n      <td>15.3</td>\n      <td>68</td>\n      <td>2</td>\n      <td>62.4</td>\n      <td>89.7</td>\n      <td>10.6</td>\n      <td>6.87</td>\n    </tr>\n    <tr>\n      <th>4</th>\n      <td>Real Madrid</td>\n      <td>LaLiga</td>\n      <td>67</td>\n      <td>14.4</td>\n      <td>57</td>\n      <td>2</td>\n      <td>57.7</td>\n      <td>87.7</td>\n      <td>11.8</td>\n      <td>6.86</td>\n    </tr>\n    <tr>\n      <th>...</th>\n      <td>...</td>\n      <td>...</td>\n      <td>...</td>\n      <td>...</td>\n      <td>...</td>\n      <td>...</td>\n      <td>...</td>\n      <td>...</td>\n      <td>...</td>\n      <td>...</td>\n    </tr>\n    <tr>\n      <th>93</th>\n      <td>Sheffield United</td>\n      <td>Premier League</td>\n      <td>20</td>\n      <td>8.5</td>\n      <td>73</td>\n      <td>3</td>\n      <td>43.0</td>\n      <td>76.9</td>\n      <td>19.1</td>\n      <td>6.46</td>\n    </tr>\n    <tr>\n      <th>94</th>\n      <td>Crotone</td>\n      <td>Serie A</td>\n      <td>45</td>\n      <td>9.5</td>\n      <td>85</td>\n      <td>4</td>\n      <td>47.2</td>\n      <td>80.4</td>\n      <td>12.7</td>\n      <td>6.43</td>\n    </tr>\n    <tr>\n      <th>95</th>\n      <td>Benevento</td>\n      <td>Serie A</td>\n      <td>40</td>\n      <td>11.0</td>\n      <td>90</td>\n      <td>5</td>\n      <td>44.2</td>\n      <td>77.7</td>\n      <td>13.4</td>\n      <td>6.43</td>\n    </tr>\n    <tr>\n      <th>96</th>\n      <td>Dijon</td>\n      <td>Ligue 1</td>\n      <td>25</td>\n      <td>9.2</td>\n      <td>75</td>\n      <td>5</td>\n      <td>46.9</td>\n      <td>80.0</td>\n      <td>14.3</td>\n      <td>6.42</td>\n    </tr>\n    <tr>\n      <th>97</th>\n      <td>Schalke 04</td>\n      <td>Bundesliga</td>\n      <td>25</td>\n      <td>8.9</td>\n      <td>70</td>\n      <td>2</td>\n      <td>46.2</td>\n      <td>76.5</td>\n      <td>15.6</td>\n      <td>6.41</td>\n    </tr>\n  </tbody>\n</table>\n<p>98 rows × 10 columns</p>\n</div>"
     },
     "execution_count": 3,
     "metadata": {},
     "output_type": "execute_result"
    }
   ],
   "source": [
    "df"
   ],
   "metadata": {
    "collapsed": false,
    "pycharm": {
     "name": "#%%\n"
    }
   }
  },
  {
   "cell_type": "code",
   "execution_count": 4,
   "outputs": [
    {
     "data": {
      "text/plain": "Team             object\nTournament       object\nGoals             int64\nShots pg        float64\nyellow_cards      int64\nred_cards         int64\nPossession%     float64\nPass%           float64\nAerialsWon      float64\nRating          float64\ndtype: object"
     },
     "execution_count": 4,
     "metadata": {},
     "output_type": "execute_result"
    }
   ],
   "source": [
    "df.dtypes"
   ],
   "metadata": {
    "collapsed": false,
    "pycharm": {
     "name": "#%%\n"
    }
   }
  },
  {
   "cell_type": "code",
   "execution_count": 5,
   "outputs": [
    {
     "data": {
      "text/plain": "(98, 10)"
     },
     "execution_count": 5,
     "metadata": {},
     "output_type": "execute_result"
    }
   ],
   "source": [
    "df.shape"
   ],
   "metadata": {
    "collapsed": false,
    "pycharm": {
     "name": "#%%\n"
    }
   }
  },
  {
   "cell_type": "code",
   "execution_count": 6,
   "outputs": [
    {
     "data": {
      "text/plain": "980"
     },
     "execution_count": 6,
     "metadata": {},
     "output_type": "execute_result"
    }
   ],
   "source": [
    "df.size"
   ],
   "metadata": {
    "collapsed": false,
    "pycharm": {
     "name": "#%%\n"
    }
   }
  },
  {
   "cell_type": "code",
   "execution_count": 7,
   "outputs": [
    {
     "data": {
      "text/plain": "Index(['Team', 'Tournament', 'Goals', 'Shots pg', 'yellow_cards', 'red_cards',\n       'Possession%', 'Pass%', 'AerialsWon', 'Rating'],\n      dtype='object')"
     },
     "execution_count": 7,
     "metadata": {},
     "output_type": "execute_result"
    }
   ],
   "source": [
    "df.columns"
   ],
   "metadata": {
    "collapsed": false,
    "pycharm": {
     "name": "#%%\n"
    }
   }
  },
  {
   "cell_type": "code",
   "execution_count": 8,
   "outputs": [
    {
     "data": {
      "text/plain": "<bound method DataFrame.info of                    Team      Tournament  Goals  Shots pg  yellow_cards  \\\n0       Manchester City  Premier League     83      15.8            46   \n1         Bayern Munich      Bundesliga     99      17.1            44   \n2   Paris Saint-Germain         Ligue 1     86      15.0            73   \n3             Barcelona          LaLiga     85      15.3            68   \n4           Real Madrid          LaLiga     67      14.4            57   \n..                  ...             ...    ...       ...           ...   \n93     Sheffield United  Premier League     20       8.5            73   \n94              Crotone         Serie A     45       9.5            85   \n95            Benevento         Serie A     40      11.0            90   \n96                Dijon         Ligue 1     25       9.2            75   \n97           Schalke 04      Bundesliga     25       8.9            70   \n\n    red_cards  Possession%  Pass%  AerialsWon  Rating  \n0           2         60.8   89.4        12.8    7.01  \n1           3         58.1   85.5        12.9    6.95  \n2           7         60.1   89.5         9.5    6.88  \n3           2         62.4   89.7        10.6    6.87  \n4           2         57.7   87.7        11.8    6.86  \n..        ...          ...    ...         ...     ...  \n93          3         43.0   76.9        19.1    6.46  \n94          4         47.2   80.4        12.7    6.43  \n95          5         44.2   77.7        13.4    6.43  \n96          5         46.9   80.0        14.3    6.42  \n97          2         46.2   76.5        15.6    6.41  \n\n[98 rows x 10 columns]>"
     },
     "execution_count": 8,
     "metadata": {},
     "output_type": "execute_result"
    }
   ],
   "source": [
    "df.info"
   ],
   "metadata": {
    "collapsed": false,
    "pycharm": {
     "name": "#%%\n"
    }
   }
  },
  {
   "cell_type": "code",
   "execution_count": 10,
   "outputs": [
    {
     "data": {
      "text/plain": "           Goals   Shots pg  yellow_cards  red_cards  Possession%      Pass%  \\\ncount  98.000000  98.000000     98.000000  98.000000    98.000000  98.000000   \nmean   52.183673  11.851020     69.704082   3.336735    49.995918  80.441837   \nstd    16.445691   2.149718     15.137316   2.148814     4.890068   4.690172   \nmin    20.000000   7.100000     40.000000   0.000000    38.500000  66.500000   \n25%    40.250000  10.325000     60.000000   2.000000    46.225000  78.025000   \n50%    50.000000  11.450000     67.500000   3.000000    49.750000  80.800000   \n75%    61.750000  13.350000     80.000000   4.750000    52.850000  83.450000   \nmax    99.000000  17.100000    117.000000  10.000000    62.400000  89.700000   \n\n       AerialsWon     Rating  \ncount   98.000000  98.000000  \nmean    16.006122   6.646122  \nstd      3.078955   0.132148  \nmin      9.500000   6.410000  \n25%     14.025000   6.540000  \n50%     16.100000   6.630000  \n75%     17.850000   6.730000  \nmax     26.800000   7.010000  ",
      "text/html": "<div>\n<style scoped>\n    .dataframe tbody tr th:only-of-type {\n        vertical-align: middle;\n    }\n\n    .dataframe tbody tr th {\n        vertical-align: top;\n    }\n\n    .dataframe thead th {\n        text-align: right;\n    }\n</style>\n<table border=\"1\" class=\"dataframe\">\n  <thead>\n    <tr style=\"text-align: right;\">\n      <th></th>\n      <th>Goals</th>\n      <th>Shots pg</th>\n      <th>yellow_cards</th>\n      <th>red_cards</th>\n      <th>Possession%</th>\n      <th>Pass%</th>\n      <th>AerialsWon</th>\n      <th>Rating</th>\n    </tr>\n  </thead>\n  <tbody>\n    <tr>\n      <th>count</th>\n      <td>98.000000</td>\n      <td>98.000000</td>\n      <td>98.000000</td>\n      <td>98.000000</td>\n      <td>98.000000</td>\n      <td>98.000000</td>\n      <td>98.000000</td>\n      <td>98.000000</td>\n    </tr>\n    <tr>\n      <th>mean</th>\n      <td>52.183673</td>\n      <td>11.851020</td>\n      <td>69.704082</td>\n      <td>3.336735</td>\n      <td>49.995918</td>\n      <td>80.441837</td>\n      <td>16.006122</td>\n      <td>6.646122</td>\n    </tr>\n    <tr>\n      <th>std</th>\n      <td>16.445691</td>\n      <td>2.149718</td>\n      <td>15.137316</td>\n      <td>2.148814</td>\n      <td>4.890068</td>\n      <td>4.690172</td>\n      <td>3.078955</td>\n      <td>0.132148</td>\n    </tr>\n    <tr>\n      <th>min</th>\n      <td>20.000000</td>\n      <td>7.100000</td>\n      <td>40.000000</td>\n      <td>0.000000</td>\n      <td>38.500000</td>\n      <td>66.500000</td>\n      <td>9.500000</td>\n      <td>6.410000</td>\n    </tr>\n    <tr>\n      <th>25%</th>\n      <td>40.250000</td>\n      <td>10.325000</td>\n      <td>60.000000</td>\n      <td>2.000000</td>\n      <td>46.225000</td>\n      <td>78.025000</td>\n      <td>14.025000</td>\n      <td>6.540000</td>\n    </tr>\n    <tr>\n      <th>50%</th>\n      <td>50.000000</td>\n      <td>11.450000</td>\n      <td>67.500000</td>\n      <td>3.000000</td>\n      <td>49.750000</td>\n      <td>80.800000</td>\n      <td>16.100000</td>\n      <td>6.630000</td>\n    </tr>\n    <tr>\n      <th>75%</th>\n      <td>61.750000</td>\n      <td>13.350000</td>\n      <td>80.000000</td>\n      <td>4.750000</td>\n      <td>52.850000</td>\n      <td>83.450000</td>\n      <td>17.850000</td>\n      <td>6.730000</td>\n    </tr>\n    <tr>\n      <th>max</th>\n      <td>99.000000</td>\n      <td>17.100000</td>\n      <td>117.000000</td>\n      <td>10.000000</td>\n      <td>62.400000</td>\n      <td>89.700000</td>\n      <td>26.800000</td>\n      <td>7.010000</td>\n    </tr>\n  </tbody>\n</table>\n</div>"
     },
     "execution_count": 10,
     "metadata": {},
     "output_type": "execute_result"
    }
   ],
   "source": [
    "df.describe()"
   ],
   "metadata": {
    "collapsed": false,
    "pycharm": {
     "name": "#%%\n"
    }
   }
  },
  {
   "cell_type": "code",
   "execution_count": 11,
   "outputs": [
    {
     "name": "stderr",
     "output_type": "stream",
     "text": [
      "C:\\Users\\Lenovo\\AppData\\Local\\Temp\\ipykernel_14864\\1134722465.py:1: FutureWarning: The default value of numeric_only in DataFrame.corr is deprecated. In a future version, it will default to False. Select only valid columns or specify the value of numeric_only to silence this warning.\n",
      "  df.corr()\n"
     ]
    },
    {
     "data": {
      "text/plain": "                 Goals  Shots pg  yellow_cards  red_cards  Possession%  \\\nGoals         1.000000  0.829698     -0.189157  -0.001185     0.717834   \nShots pg      0.829698  1.000000     -0.369343  -0.105080     0.759153   \nyellow_cards -0.189157 -0.369343      1.000000   0.368847    -0.164302   \nred_cards    -0.001185 -0.105080      0.368847   1.000000    -0.083360   \nPossession%   0.717834  0.759153     -0.164302  -0.083360     1.000000   \nPass%         0.694214  0.684035     -0.184238  -0.043761     0.851458   \nAerialsWon   -0.495579 -0.382147      0.060116  -0.031791    -0.543970   \nRating        0.852152  0.851265     -0.417049  -0.162358     0.734978   \n\n                 Pass%  AerialsWon    Rating  \nGoals         0.694214   -0.495579  0.852152  \nShots pg      0.684035   -0.382147  0.851265  \nyellow_cards -0.184238    0.060116 -0.417049  \nred_cards    -0.043761   -0.031791 -0.162358  \nPossession%   0.851458   -0.543970  0.734978  \nPass%         1.000000   -0.764788  0.668573  \nAerialsWon   -0.764788    1.000000 -0.327225  \nRating        0.668573   -0.327225  1.000000  ",
      "text/html": "<div>\n<style scoped>\n    .dataframe tbody tr th:only-of-type {\n        vertical-align: middle;\n    }\n\n    .dataframe tbody tr th {\n        vertical-align: top;\n    }\n\n    .dataframe thead th {\n        text-align: right;\n    }\n</style>\n<table border=\"1\" class=\"dataframe\">\n  <thead>\n    <tr style=\"text-align: right;\">\n      <th></th>\n      <th>Goals</th>\n      <th>Shots pg</th>\n      <th>yellow_cards</th>\n      <th>red_cards</th>\n      <th>Possession%</th>\n      <th>Pass%</th>\n      <th>AerialsWon</th>\n      <th>Rating</th>\n    </tr>\n  </thead>\n  <tbody>\n    <tr>\n      <th>Goals</th>\n      <td>1.000000</td>\n      <td>0.829698</td>\n      <td>-0.189157</td>\n      <td>-0.001185</td>\n      <td>0.717834</td>\n      <td>0.694214</td>\n      <td>-0.495579</td>\n      <td>0.852152</td>\n    </tr>\n    <tr>\n      <th>Shots pg</th>\n      <td>0.829698</td>\n      <td>1.000000</td>\n      <td>-0.369343</td>\n      <td>-0.105080</td>\n      <td>0.759153</td>\n      <td>0.684035</td>\n      <td>-0.382147</td>\n      <td>0.851265</td>\n    </tr>\n    <tr>\n      <th>yellow_cards</th>\n      <td>-0.189157</td>\n      <td>-0.369343</td>\n      <td>1.000000</td>\n      <td>0.368847</td>\n      <td>-0.164302</td>\n      <td>-0.184238</td>\n      <td>0.060116</td>\n      <td>-0.417049</td>\n    </tr>\n    <tr>\n      <th>red_cards</th>\n      <td>-0.001185</td>\n      <td>-0.105080</td>\n      <td>0.368847</td>\n      <td>1.000000</td>\n      <td>-0.083360</td>\n      <td>-0.043761</td>\n      <td>-0.031791</td>\n      <td>-0.162358</td>\n    </tr>\n    <tr>\n      <th>Possession%</th>\n      <td>0.717834</td>\n      <td>0.759153</td>\n      <td>-0.164302</td>\n      <td>-0.083360</td>\n      <td>1.000000</td>\n      <td>0.851458</td>\n      <td>-0.543970</td>\n      <td>0.734978</td>\n    </tr>\n    <tr>\n      <th>Pass%</th>\n      <td>0.694214</td>\n      <td>0.684035</td>\n      <td>-0.184238</td>\n      <td>-0.043761</td>\n      <td>0.851458</td>\n      <td>1.000000</td>\n      <td>-0.764788</td>\n      <td>0.668573</td>\n    </tr>\n    <tr>\n      <th>AerialsWon</th>\n      <td>-0.495579</td>\n      <td>-0.382147</td>\n      <td>0.060116</td>\n      <td>-0.031791</td>\n      <td>-0.543970</td>\n      <td>-0.764788</td>\n      <td>1.000000</td>\n      <td>-0.327225</td>\n    </tr>\n    <tr>\n      <th>Rating</th>\n      <td>0.852152</td>\n      <td>0.851265</td>\n      <td>-0.417049</td>\n      <td>-0.162358</td>\n      <td>0.734978</td>\n      <td>0.668573</td>\n      <td>-0.327225</td>\n      <td>1.000000</td>\n    </tr>\n  </tbody>\n</table>\n</div>"
     },
     "execution_count": 11,
     "metadata": {},
     "output_type": "execute_result"
    }
   ],
   "source": [
    "df.corr()"
   ],
   "metadata": {
    "collapsed": false,
    "pycharm": {
     "name": "#%%\n"
    }
   }
  },
  {
   "cell_type": "code",
   "execution_count": 12,
   "outputs": [
    {
     "data": {
      "text/plain": "Team            98\nTournament       5\nGoals           49\nShots pg        61\nyellow_cards    53\nred_cards       11\nPossession%     80\nPass%           75\nAerialsWon      62\nRating          43\ndtype: int64"
     },
     "execution_count": 12,
     "metadata": {},
     "output_type": "execute_result"
    }
   ],
   "source": [
    "df.nunique()"
   ],
   "metadata": {
    "collapsed": false,
    "pycharm": {
     "name": "#%%\n"
    }
   }
  },
  {
   "cell_type": "code",
   "execution_count": 13,
   "outputs": [
    {
     "data": {
      "text/plain": "Team            0\nTournament      0\nGoals           0\nShots pg        0\nyellow_cards    0\nred_cards       0\nPossession%     0\nPass%           0\nAerialsWon      0\nRating          0\ndtype: int64"
     },
     "execution_count": 13,
     "metadata": {},
     "output_type": "execute_result"
    }
   ],
   "source": [
    "df.isnull().sum()"
   ],
   "metadata": {
    "collapsed": false,
    "pycharm": {
     "name": "#%%\n"
    }
   }
  },
  {
   "cell_type": "code",
   "execution_count": null,
   "outputs": [],
   "source": [],
   "metadata": {
    "collapsed": false,
    "pycharm": {
     "name": "#%%\n"
    }
   }
  }
 ],
 "metadata": {
  "kernelspec": {
   "display_name": "Python 3",
   "language": "python",
   "name": "python3"
  },
  "language_info": {
   "codemirror_mode": {
    "name": "ipython",
    "version": 2
   },
   "file_extension": ".py",
   "mimetype": "text/x-python",
   "name": "python",
   "nbconvert_exporter": "python",
   "pygments_lexer": "ipython2",
   "version": "2.7.6"
  }
 },
 "nbformat": 4,
 "nbformat_minor": 0
}